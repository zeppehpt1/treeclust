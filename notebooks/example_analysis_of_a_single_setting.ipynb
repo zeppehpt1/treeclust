{
 "cells": [
  {
   "attachments": {},
   "cell_type": "markdown",
   "metadata": {},
   "source": [
    "## Example analysis of a single epxerimental setting\n",
    "with additional plots/visualizations"
   ]
  },
  {
   "cell_type": "code",
   "execution_count": null,
   "metadata": {},
   "outputs": [],
   "source": [
    "import matplotlib.pyplot as plt\n",
    "import numpy as np\n",
    "import pandas as pd\n",
    "import seaborn as sns\n",
    "import pickle\n",
    "import sys\n",
    "import umap\n",
    "import importlib\n",
    "from pathlib import Path\n",
    "from sklearn.cluster import OPTICS\n",
    "from sklearn.metrics import confusion_matrix, classification_report, mean_absolute_error, mean_squared_error, rand_score, adjusted_rand_score, mutual_info_score, adjusted_mutual_info_score, normalized_mutual_info_score, homogeneity_score, completeness_score, v_measure_score, fowlkes_mallows_score\n",
    "\n",
    "sys.path.append('..')\n",
    "from analysis import label_tools as lt\n",
    "from analysis import visualization as viz"
   ]
  },
  {
   "cell_type": "code",
   "execution_count": null,
   "metadata": {},
   "outputs": [],
   "source": [
    "# stadtwald best\n",
    "fc1_path = Path('/home/richard/data/Bamberg_Stadtwald/encodings/resnet_clahe_polygon_pred.pickle')\n",
    "le_path = Path('/home/richard/data/Bamberg_Stadtwald/label_encodings/resnet_clahe_label_encodings.pickle')\n",
    "\n",
    "# load the data and label encoder into memory\n",
    "with open(fc1_path, 'rb') as f:\n",
    "    data = pickle.load(f)\n",
    "with open(le_path, 'rb') as l:\n",
    "    le = pickle.load(l)"
   ]
  },
  {
   "cell_type": "code",
   "execution_count": null,
   "metadata": {},
   "outputs": [],
   "source": [
    "# receive dict data\n",
    "files = data['filename']\n",
    "fc1 = data['features']\n",
    "labels = data['labels']\n",
    "y_gt = le.transform(labels)"
   ]
  },
  {
   "cell_type": "code",
   "execution_count": null,
   "metadata": {},
   "outputs": [],
   "source": [
    "# dimensionality reduction\n",
    "reducer = umap.UMAP(n_components=2, metric='cosine', random_state=990561) \n",
    "reduced = reducer.fit_transform(fc1)\n",
    "print(reduced.shape)\n",
    "plt.scatter(\n",
    "    reduced[:, 0],\n",
    "    reduced[:, 1])\n",
    "plt.gca().set_aspect('equal', 'datalim')\n",
    "plt.title('UMAP projection Stadtwald', fontsize=24)"
   ]
  },
  {
   "cell_type": "code",
   "execution_count": null,
   "metadata": {},
   "outputs": [],
   "source": [
    "# show pano plot of UMAP\n",
    "viz.pano_plot(reduced, files)"
   ]
  },
  {
   "cell_type": "code",
   "execution_count": null,
   "metadata": {},
   "outputs": [],
   "source": [
    "# clustering\n",
    "clustering = OPTICS(min_samples=5).fit(reduced) # 3 good for stadtwald\n",
    "labels_unmatched = clustering.labels_\n",
    "y_pred = lt.label_matcher(labels_unmatched, y_gt)\n",
    "zeros = [n for n in labels_unmatched if n == -1]"
   ]
  },
  {
   "cell_type": "code",
   "execution_count": null,
   "metadata": {},
   "outputs": [],
   "source": [
    "tx, ty = reduced[:,0], reduced[:,1]\n",
    "tx = (tx-np.min(tx)) / (np.max(tx) - np.min(tx))\n",
    "ty = (ty-np.min(ty)) / (np.max(ty) - np.min(ty))\n",
    "labels_ordered = le.inverse_transform(range(len(le.mapper)))\n",
    "df = pd.DataFrame({'files': files,\n",
    "                   'x':tx,\n",
    "                   'y':ty,\n",
    "                   'labels': labels,\n",
    "                  },\n",
    "                  index=files)\n",
    "\n",
    "y_pred_str = le.inverse_transform(y_pred)\n",
    "y_gt_str = le.inverse_transform(y_gt)\n",
    "df['y_pred_labels'] = pd.Series(y_pred_str, index=files)\n",
    "df['y_pred_labels'] = pd.Series(y_pred, index=files)\n",
    "df['labels'] = pd.Series(y_gt, index=files)\n",
    "\n",
    "fig, ax = plt.subplots(1,2, figsize=(8,5), dpi=150)\n",
    "\n",
    "\n",
    "sns.scatterplot(data=df, x='x', y='y', hue='labels', palette='tab10', hue_order=sorted(set(y_gt)), ax=ax[0]) # ground truth labels\n",
    "sns.scatterplot(data=df, x='x', y='y', hue='y_pred_labels', palette='tab10', hue_order=sorted(set(y_gt)), ax=ax[1]) # predicted labels\n",
    "\n",
    "ax[0].get_legend().remove()\n",
    "ax[1].legend(bbox_to_anchor=(1.05,1))\n",
    "ax[0].set_title('ground truth labels')\n",
    "ax[1].set_title('predicted labels')\n",
    "ax[0].set_ylabel(None)\n",
    "ax[1].set_ylabel(None)\n",
    "ax[0].set_xlabel(None)\n",
    "ax[1].set_xlabel(None)\n",
    "fig.tight_layout()\n",
    "plt.show()"
   ]
  },
  {
   "cell_type": "code",
   "execution_count": null,
   "metadata": {},
   "outputs": [],
   "source": [
    "# confusion matrix\n",
    "labels_ordered = le.inverse_transform(range(len(le.mapper)))\n",
    "CM = confusion_matrix(y_gt, y_pred)\n",
    "print('Accuracy: {:.3f}'.format(CM.trace()/CM.sum()))\n",
    "viz.pretty_cm(CM, labels_ordered)"
   ]
  },
  {
   "cell_type": "code",
   "execution_count": null,
   "metadata": {},
   "outputs": [],
   "source": [
    "print(classification_report(y_gt, y_pred, zero_division=0))"
   ]
  },
  {
   "cell_type": "code",
   "execution_count": null,
   "metadata": {},
   "outputs": [],
   "source": [
    "def tp(y_true, y_pred):\n",
    "    return np.sum(np.multiply([i==True for i in y_pred], y_true))\n",
    "def fp(y_true, y_pred):\n",
    "    return np.sum(np.multiply([i==True for i in y_pred], [not(j) for j in y_true]))\n",
    "def tn(y_true, y_pred):\n",
    "    return np.sum(np.multiply([i==False for i in y_pred], [not(j) for j in y_true]))\n",
    "def fn(y_true, y_pred):\n",
    "    return np.sum(np.multiply([i==False for i in y_pred], y_true))\n",
    "\n",
    "def get_multiclass_cm_values(y_true, y_pred):\n",
    "    tp_values = []\n",
    "    fp_values = []\n",
    "    tn_values = []\n",
    "    fn_values = []\n",
    "    for i in np.unique(y_true):\n",
    "        modified_true = [i==j for j in y_true]\n",
    "        modified_pred = [i==j for j in y_pred]\n",
    "        TP = tp(modified_true, modified_pred)\n",
    "        tp_values.append(TP)\n",
    "        FP = fp(modified_true, modified_pred)\n",
    "        fp_values.append(FP)\n",
    "        TN = tn(modified_true, modified_pred)\n",
    "        tn_values.append(TN)\n",
    "        FN = fn(modified_true, modified_pred)\n",
    "        fn_values.append(FN)\n",
    "    return np.mean(tp_values), np.mean(fp_values), np.mean(fp_values),  np.mean(fp_values)\n",
    "\n",
    "def f_star(y_gt, y_pred):\n",
    "    TP, FP, TN, FN = get_multiclass_cm_values(y_gt, y_pred)\n",
    "    return TP / (FN + FP + TP)"
   ]
  },
  {
   "cell_type": "code",
   "execution_count": null,
   "metadata": {},
   "outputs": [],
   "source": [
    "# ...more cluster metrics\n",
    "# f-star\n",
    "print(\"f*-score\")\n",
    "print(f_star(y_gt, y_pred))\n",
    "# mean squared error\n",
    "print(\"\\nMSE\")\n",
    "print(mean_squared_error(y_gt, y_pred))\n",
    "print(mean_squared_error(y_gt, y_pred, squared=False))\n",
    "print(\"\\nMAE\")\n",
    "print(mean_absolute_error(y_gt, y_pred))\n",
    "# rand score\n",
    "print(\"\\nRand index\")\n",
    "print(rand_score(y_gt, y_pred))\n",
    "print(adjusted_rand_score(y_gt, y_pred))\n",
    "# mututal information based scores\n",
    "print(\"\\nMutual information based scores\")\n",
    "print(mutual_info_score(y_gt, y_pred))\n",
    "print(adjusted_mutual_info_score(y_gt, y_pred))\n",
    "print(normalized_mutual_info_score(y_gt, y_pred))\n",
    "# Homogenity, completeness and v-measure\n",
    "print(\"\\nHomogeneity, completeness and v-measure\")\n",
    "print(homogeneity_score(y_gt, y_pred))\n",
    "print(completeness_score(y_gt, y_pred))\n",
    "print(v_measure_score(y_gt, y_pred))\n",
    "# fowlkes\n",
    "print(\"\\nFowlkes-mallows-score\")\n",
    "print(fowlkes_mallows_score(y_gt, y_pred))\n",
    "# Cohen-kappa\n",
    "print(\"\\nCohen-kappa\")\n",
    "print(cohen_kappa_score(y_gt, y_pred))\n",
    "# matthew's correlation coefficient\n",
    "print(\"\\nMCC\")\n",
    "print(matthews_corrcoef(y_gt, y_pred))"
   ]
  },
  {
   "cell_type": "code",
   "execution_count": null,
   "metadata": {},
   "outputs": [],
   "source": [
    "# print image examples\n",
    "df = pd.DataFrame(columns=['filename','label'])\n",
    "df['filename'] = files\n",
    "df['label'] = y_pred_str\n",
    "n_row = 8\n",
    "n_col = 2\n",
    "_, axs = plt.subplots(n_row, n_col, figsize=(25, 25))\n",
    "axs = axs.flatten()\n",
    "imgs = df['filename']\n",
    "for img_path, ax in zip(imgs[0:n_row*n_col], axs):\n",
    "    img = Image.open(img_path)\n",
    "    label_value = df.loc[df.filename == img_path, 'label'].values[0]\n",
    "    ax.set_title(label_value)\n",
    "    ax.imshow(img)\n",
    "    ax.grid(None)\n",
    "    plt.tight_layout()"
   ]
  }
 ],
 "metadata": {
  "kernelspec": {
   "display_name": "detectree2",
   "language": "python",
   "name": "python3"
  },
  "language_info": {
   "codemirror_mode": {
    "name": "ipython",
    "version": 3
   },
   "file_extension": ".py",
   "mimetype": "text/x-python",
   "name": "python",
   "nbconvert_exporter": "python",
   "pygments_lexer": "ipython3",
   "version": "3.8.15"
  },
  "orig_nbformat": 4
 },
 "nbformat": 4,
 "nbformat_minor": 2
}
